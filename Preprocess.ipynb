{
 "cells": [
  {
   "cell_type": "code",
   "execution_count": 10,
   "metadata": {},
   "outputs": [],
   "source": [
    "import os\n",
    "import pandas\n",
    "import re, unicodedata\n",
    "from bs4 import BeautifulSoup\n",
    "import inflect\n",
    "import nltk\n",
    "from nltk import word_tokenize, sent_tokenize\n",
    "from nltk.corpus import stopwords\n",
    "from nltk.stem import LancasterStemmer, WordNetLemmatizer\n",
    "\n",
    "\n",
    "import sys\n",
    "import glob"
   ]
  },
  {
   "cell_type": "code",
   "execution_count": 27,
   "metadata": {},
   "outputs": [
    {
     "name": "stdout",
     "output_type": "stream",
     "text": [
      "seven study samples contributed metaanalysis gwa studies serum dheas concentrations comprising total fourteen thousand, eight hundred and forty-six men women caucasian origin consortium made populations twinsuk n four thousand, nine hundred and six framingham heart study fhs n three thousand, one hundred and eighty-three ship n one thousand, eight hundred and thirty-two rotterdam study rs1 n one thousand, five hundred and ninety-seven inchianti n one thousand, one hundred and eighty-two health abc n one thousand, two hundred and twenty-two good n nine hundred and twenty-four full details found text s1blood samples collected study participants either overnight fasting nonfasting serum levels dheas measured either immunoassay liquid chromatography tandem mass spectrometry lcmsms methods text s1 distribution serum dheas levels skewed log transformed concentrations transformed data used subsequent analysisseven study populations genotyped using variety genotyping platforms including illumina humanhap 317k 550k 610k 1mduo beadchip affymetrix array 500k sixty cohort followed strict quality control genotyping data details quality control filtering criteria found text s1 order increase genomic coverage allow evaluation snps across many study populations possible study imputed genotype data based hapmap ceu build thirty-six algorithms used infer unobserved genotypes probabilistic manner either mach http wwwsphumicheducsgabecasismach impute exclude nongenotyped snps imputation quality score two snps allele frequency one metaanalysiseach study performed genomewide association testing serum concentrations dheas across approximately twenty-five million snps additive genetic model separately men women text s1 analyses adjusted age addition association testing performed combined men women data adjustment age sex studies used plink genabel snptest quicktest merlin association testing summary results cohort metaanalyzed zscore pooling method implemented metal http wwwsphumicheducsgabecasismetal chose method minimize impact different assays used serum dheas measurements specifically study converted twosided p value adjustment population stratification genomic control method z statistic signed reflect direction association given reference allele z score weighted squared weights chosen sum one samplespecific weight proportional square root effective number individuals sample summed weighted z statistics across studies converted summary z score twosided p value also used i2 index assess betweenstudy heterogeneity inverse variance weighted method estimate effect size genomewide significance defined p five thousand, one hundred and eight association dheasassociated snps related gene expression levels muther data examined mixed linear regression modelling takes family structure batch effects account significance defined p six accounting multiple testing bonferroni method correcting nine independent tests metaanalysis geneset enrichment variant associations magenta used explore pathwaybased associations full gwas dataset magenta implements gene set enrichment analysis gsea based approach methodology described segre et al briefly gene genome mapped single index snp lowest pvalue within one hundred and ten kb upstream forty kb downstream window pvalue representing gene score corrected confounding factors gene size snp density ldrelated properties regression model genes within hlaregion excluded analysis due difficulties accounting gene density ld patterns mapped gene genome ranked adjusted gene score given significance threshold 95th 75th percentiles gene scores observed number gene scores given pathway ranked score specified threshold percentile calculated observed statistic compared one million randomly permuted pathways identical size generates empirical gsea pvalue pathway significance determined individual pathway reached false discovery rate fdr five either analysis total two thousand, five hundred and twenty-nine pathways gene ontology panther kegg ingenuity tested enrichment multiple modest associations serum dheas levelsall studies approved local ethics committees participants provided written informed consent stated text s1\n"
     ]
    }
   ],
   "source": [
    "list_of_files = glob.glob('/paper1/*.html')\n",
    "\n",
    "for file_name in list_of_files:\n",
    "    #print(file_name)\n",
    "    f= open(file_name, 'r')\n",
    "    lst = []\n",
    "    line = denoise_text(f)\n",
    "    words = nltk.word_tokenize(line)\n",
    "    words = normalize(words)\n",
    "    \n",
    "    \n",
    "    #print(words)\n",
    "    ff = \" \".join(words) \n",
    "    print(ff)\n",
    "    \n",
    "    file1 = open(file_name+\"_tokenized\",'w')\n",
    "    file1.write(ff)\n",
    "    #print(line)\n",
    "    break\n",
    "    "
   ]
  },
  {
   "cell_type": "code",
   "execution_count": 118,
   "metadata": {},
   "outputs": [
    {
     "name": "stdout",
     "output_type": "stream",
     "text": [
      "['BHK21', '(', 'American', 'Type', 'Culture', 'Collection', ',', 'http', ':', '//www.atcc.org', ')', 'were', 'cultivated', 'at', '37', '°C', ',', '5', '%', 'CO2', ',', 'in', '100', 'cm2', 'plates', 'under', '12', 'mL', 'of', 'Dulbecco', 'modified', 'Eagle', \"'s\", 'minimum', 'essential', 'medium', '(', 'DMEM', ')', 'supplemented', 'with', '10', '%', 'fetal', 'calf', 'serum', ',', 'and', 'passaged', 'upon', 'confluence', '.', 'The', 'VSV', 'infectious', 'cDNA', 'used', 'to', 'obtain', 'population', 'A', 'was', 'kindly', 'provided', 'by', 'G.', 'T.', 'W.', 'Wertz', ',', 'University', 'of', 'Alabama', ',', 'United', 'States', 'of', 'America', '[', '23', ']', '.A', '100-μL', 'volume', 'of', 'an', 'appropriate', 'dilution', 'was', 'added', 'to', '60', 'mm', 'culture', 'plates', 'and', 'cells', 'were', 'topped', 'with', 'DMEM', 'medium', 'containing', '0.4', '%', 'agarose', '.', 'Monolayers', 'were', 'stained', 'at', '18–22', 'h', 'post-inoculation', '(', 'hpi', ')', 'with', 'a', 'solution', 'of', '2', '%', 'crystal', 'violet', '(', 'Sigma', ',', 'http', ':', '//www.sigmaaldrich.com', ')', 'in', '10', '%', 'formaldehyde', '(', 'Panreac', ',', 'http', ':', '//www.panreac.com/new/ing/menu.htm', ')', '.Approximately', 'N', '0', '=', '5', '×', '103', 'pfu', 'were', 'inoculated', 'to', 'C', '=', '106', 'BHK21', 'cells', 'in', '25', 'cm2', 'flasks', ',', 'incubated', 'for', '24', 'h', ',', 'and', 'the', 'supernatant', 'was', 'used', 'to', 'seed', 'a', 'new', 'infection', 'passage', 'under', 'the', 'same', 'conditions', ',', 'up', 'to', '25', 'passages', '.', 'Viral', 'population', 'sizes', 'at', 'the', 'end', 'of', 'each', 'infection', 'passages', 'were', 'approximately', 'Nf', '=', '5', '×', '109', 'pfu', '.', 'The', 'number', 'of', 'viral', 'infectious', 'cycles', '(', 'generations', ')', 'per', 'passage', 'was', 'estimated', 'from', 'N', '0', ',', 'Nf', ',', 'and', 'C', 'as', 'previously', 'described', '[', '39', ']', ',', 'giving', '~4', 'generations', 'per', 'passage.Viral', 'RNA', 'was', 'extracted', 'from', 'the', 'supernatant', 'of', 'the', 'infected', 'cultures', 'using', 'the', 'High', 'Pure', 'Viral', 'Nucleic', 'Acid', 'Kit', 'following', 'the', 'manufacturer', 'instructions', '(', 'Roche', ',', 'http', ':', '//www.roche.com', ')', '.', 'The', 'anti-genomic', 'VSV', 'cDNA', 'was', 'synthesized', 'using', 'the', 'reverse', 'transcriptase', 'of', 'the', 'Moloney', 'murine', 'leukemia', 'virus', '(', 'Promega', ',', 'http', ':', '//www.promega.com', ')', 'plus', 'a', 'battery', 'of', 'random', 'hexamers', '(', 'Promega', ')', '.', 'The', 'genomic', 'region', 'containing', 'the', 'original', 'mutations', 'was', 'amplified', 'by', 'PCR', 'using', 'Taq', 'polymerase', '(', 'Amersham', ',', 'http', ':', '//www.gehealthcare.com', ')', 'and', 'specific', 'primers', '.', 'Sequencing', 'was', 'carried', 'out', 'using', 'ABI', 'PRISM', 'BigDye', 'Terminator', 'v3.0', 'Ready', 'Reaction', 'Cycle', 'Sequencing', 'KIT', '(', 'Applied', 'Biosystems', ',', 'http', ':', '//www.appliedbiosystems.com', ')', 'on', 'an', 'ABI', '3700', 'automated', 'sequencer', '.', 'Sequences', 'were', 'visualized', 'and', 'edited', 'with', 'the', 'Staden', 'software', 'package', '(', 'http', ':', '//staden.sourceforge.net', ')', '.RNA', 'viral', 'extraction', ',', 'RT-PCRs', ',', 'sequencing', ',', 'and', 'editing', 'of', 'sequences', 'were', 'performed', 'as', 'described', 'above', '.', 'A', 'first', 'round', 'of', 'PCR', 'was', 'carried', 'out', 'using', 'Pfu', 'polymerase', '(', 'Amersham', ')', 'and', 'specific', 'primers', '[', '40', ']', '.', 'Amplified', 'DNA', 'products', 'of', 'each', 'region', 'were', 'purified', 'with', 'High', 'Pure', 'PCR', 'product', 'Purification', 'Kit', '(', 'Roche', ')', 'and', 'directly', 'cloned', 'into', 'EcoRV-digested', 'pBluescript', 'II', 'SK', '(', '+', ')', 'phagemid', '(', 'Stratagene', ',', 'http', ':', '//www.stratagene.com', ')', '.', 'A', 'second', 'round', 'of', 'PCR', 'was', 'then', 'carried', 'out', 'by', 'adding', 'a', 'single', 'transformed', 'bacterial', 'colony', 'in', 'each', 'PCR', 'tube', 'and', 'using', 'Taq', 'polymerase', '.', 'Vector-based', 'primers', 'KS', 'and', 'SK', '(', 'Stratagene', ')', 'were', 'used', 'in', 'this', 'second', 'round', 'of', 'PCR', ',', 'as', 'well', 'as', 'for', 'the', 'subsequent', 'sequencing', '.', 'Before', 'sequencing', ',', 'amplified', 'DNA', 'was', 'purified', 'using', 'a', 'PCR', 'clean-up', 'kit', '(', 'Macherey-Nagel', ',', 'https', ':', '//www.macherey-nagel.com', ')', '.', 'Plasmid', 'DNA', 'was', 'purified', 'with', 'High', 'Pure', 'Plasmid', 'Isolation', 'Kit', '(', 'Roche', ')', 'and', 'clones', 'were', 'sequenced', 'using', 'vector-based', 'primers', 'KS', 'and', 'SK', '(', 'Stratagene', ')', '.', 'EMBL', 'accession', 'numbers', 'of', 'the', 'obtained', 'sequences', 'for', 'nonmutagenized', 'populations', 'and', 'for', '5-FU', 'mutagenized', 'populations', 'are', 'in', 'the', 'Accession', 'Numbers', 'list', 'in', 'the', 'Supporting', 'Information', 'section', 'of', 'this', 'paper.Following', 'protocols', 'established', 'in', 'previous', 'work', '[', '41–43', ']', ',', 'we', 'used', 'growth', 'rate', 'assays', 'to', 'estimate', 'fitness', '.', 'We', 'seeded', '~5', '×', '103', 'pfu', 'of', 'each', 'population', 'into', '~105', 'BHK21', 'cells', 'and', 'incubated', 'the', 'culture', 'until', 'the', 'population', 'grew', 'up', 'to', 'a', 'titer', 'of', '~107', 'pfu/mL', '(', 'i.e.', ',', '7–8', 'hpi', ')', '.', 'From', 'final', 'and', 'initial', 'titers', ',', 'the', 'growth', 'rate', '(', 'r', ')', 'was', 'calculated', 'as', 'the', 'slope', 'of', 'log-titer', 'regression', 'against', 'time', '(', 'hpi', ')', '.', 'We', 'defined', 'fitness', '(', 'W', ')', 'as', 'the', 'number', 'of', 'descendants', 'per', 'individual', 'per', 'hour', ',', 'i.e.', ',', 'W', '=', 'er', '−', '1', '.', 'Fitness', 'assays', 'were', 'done', 'in', 'triplicate.Viruses', 'were', 'plated', 'as', 'detailed', 'above', ',', 'paying', 'care', 'to', 'put', 'less', 'than', '50', 'pfu', 'per', 'plate', 'to', 'avoid', 'plaque', 'overlapping', '.', 'All', 'platings', 'were', 'done', 'in', 'a', 'single', 'block', 'and', 'the', 'same', 'overlay', 'medium', 'batch', 'was', 'used', 'for', 'both', 'populations', 'and', 'staining', 'was', 'done', 'at', '24', 'hpi', '.', 'Pictures', 'of', 'the', 'plates', 'were', 'taken', 'with', 'a', '5', 'megapixel', 'Canon', 'PowerShot', 'G5', 'digital', 'camera', '(', 'http', ':', '//www.canon.com', ')', 'and', 'image', 'analysis', 'was', 'done', 'with', 'AnalySIS', 'v.3.2', 'software', '(', 'Soft', 'Imaging', 'System', ',', 'http', ':', '//www.soft-imaging.net', ')', '.', 'The', 'vast', 'majority', 'of', 'plaques', 'were', 'automatically', 'identified', ',', 'whereas', 'the', 'rest', 'were', 'manually', 'delineated', 'in', 'a', 'zoomed', 'image', '.', 'After', 'defining', 'plaques', 'as', 'single', 'objects', ',', 'we', 'automatically', 'obtained', 'their', 'surface', 'area', 'in', 'pixels', ',', 'S.To', 'calibrate', 'the', 'relationship', 'between', 'plaque', 'size', 'and', 'fitness', ',', 'we', 'selected', '12', 'clones', 'from', 'each', 'population', 'that', 'widely', 'varied', 'in', 'fitness', 'and', ',', 'for', 'each', ',', 'we', 'determined', 'the', 'average', 'plaque', 'size', 'from', 'four', 'independent', 'plates', '.', 'Since', 'we', 'had', 'no', 'evidence', 'that', 'fitness', 'and', 'plaque', 'area', 'were', 'linearly', 'related', ',', 'we', 'performed', 'a', 'log–log', 'regression', 'to', 'obtain', 'a', 'calibration', 'line', 'of', 'the', 'form', 'logW', '=', 'p', '+', 'mlogS', '.', 'For', 'population', 'A', ',', 'we', 'obtained', 'm', '=', '1.907', '±', '0.318', 'and', 'p', '=', '−13.785', '±', '2.246', '(', 'r', '=', '0.884', ')', ',', 'whereas', 'for', 'population', 'B', ',', 'we', 'obtained', 'm', '=', '0.927', '±', '0.096', 'and', 'p', '=', '−5.874', '±', '0.678', '(', 'r', '=', '0.950', ')', '.', 'The', 'calibration', 'line', 'was', 'used', 'to', 'transform', 'each', 'observed', 'plaque', 'size', 'into', 'a', 'predicted', 'fitness.Although', 'the', 'calibrations', 'described', 'above', 'seemed', 'relatively', 'accurate', ',', 'it', 'is', 'unavoidable', 'that', 'there', 'was', 'some', 'degree', 'of', 'uncertainty', 'and', 'consequently', 'no', 'guarantee', 'that', 'no', 'bias', 'was', 'introduced', '.', 'We', 'therefore', 'carried', 'out', 'a', 'second', 'analysis', 'that', 'bypassed', 'the', 'calibration', 'step', '.', 'To', 'achieve', 'this', ',', 'we', 'simply', 'assumed', 'that', 'the', 'number', 'of', 'lysed', 'cells', 'was', 'proportional', 'to', 'the', 'number', 'of', 'viruses', 'produced', '.', 'First', ',', 'we', 'estimated', 'the', 'number', 'of', 'lysed', 'cells', 'on', 'a', 'plaque', ',', 'D', ',', 'by', 'dividing', 'its', 'pixel', 'surface', 'area', 'per', 'the', 'total', 'pixel', 'surface', 'area', 'of', 'the', '60', 'mm', 'plate', 'and', 'multiplying', 'per', 'the', 'total', 'number', 'of', 'cells', 'on', 'a', 'plate', ',', 'which', 'was', 'obtained', 'by', 'counting', 'cells', 'in', 'an', 'hemocytometer', '(', 'Neubauer', ')', '.', 'Second', ',', 'we', 'estimated', 'the', 'average', 'number', 'of', 'viruses', 'produced', 'per', 'cell', '(', 'K', ')', 'by', 'titrating', 'a', 'fully', 'lysed', 'plate', '.', 'This', 'was', 'done', 'separately', 'for', 'populations', 'A', 'and', 'B', ',', 'yielding', 'K', '=', '2,204', '±', '32', 'and', 'K', '=', '2,712', '±', '82', 'respectively', '.', 'Using', 'these', 'estimations', ',', 'plaque', 'sizes', 'were', 'transformed', 'into', 'predicted', 'fitness', 'as', 'Wpred', '=', '(', 'KD', ')', '1/24', '−', '1', '.', 'The', 'results', 'obtained', 'with', 'this', 'latter', 'fitness', 'estimation', 'method', '(', 'unpublished', 'data', ')', 'were', 'consistent', 'with', 'those', 'obtained', 'using', 'the', 'calibration', 'line', '(', 'population', 'A', 'showed', 'higher', 'maximum', 'fitness', 'and', 'higher', 'variance', ')', '.Standard', 'growth', 'rate', 'assays', 'were', 'performed', 'as', 'described', 'above', 'except', 'that', 'in', 'competitions', 'between', 'populations', '(', 'Figure', '3', ')', ',', 'only', '100', 'pfu', 'from', 'each', 'competitor', 'were', 'inoculated', 'to', 'minimize', 'the', 'effect', 'of', 'rare', 'beneficial', 'mutations', '(', 'see', 'below', ')', '.', 'Viruses', 'from', 'the', 'two', 'genotypes', 'were', 'inoculated', 'into', 'the', 'same', 'well', '.', 'Genotype', 'B', 'carried', 'a', 'monoclonal', 'antibody', 'resistance', 'marker', 'that', 'allowed', 'us', 'to', 'estimate', 'the', 'titer', 'of', 'each', 'population', 'in', 'the', 'mixture', 'by', 'plating', 'in', 'presence', 'and', 'absence', 'of', 'antibody', '.', 'Samples', 'were', 'taken', 'at', '0', ',', '7', ',', '8', ',', '9', ',', '10', ',', '11', ',', '12', ',', '15', ',', '20', ',', '25', ',', 'and', '30', 'hpi', 'for', 'competition', 'with', 'no', 'mutagen', '.', 'For', 'competitions', 'in', 'the', 'presence', 'of', '5-FU', 'or', '5-AzC', ',', 'cells', 'had', 'been', 'pretreated', 'with', 'the', 'indicated', '5-FU', 'concentration', '12', 'h', 'prior', 'infection', '.', 'Samples', 'were', 'taken', 'at', '0', ',', '15', ',', '20', ',', '25', ',', '30', ',', '35', ',', '39', ',', 'and', '49', 'hpi', 'for', '20', 'and', '40', 'μg/mL', '5-FU', 'and', 'at', '0', ',', '20', ',', '25', ',', '30', ',', '35', ',', '39', ',', 'and', '49', 'hpi', 'for', '80', 'μg/mL', '5-FU', '.', 'Samples', 'were', 'taken', 'at', '0', ',', '10', ',', '12', ',', '15', ',', '24', ',', '28', ',', '32', ',', '38', ',', 'and', '48', 'hpi', 'for', '5', 'and', '10μg/mL', '5-AzC', ',', 'and', 'at', '0', ',', '24', ',', '28', ',', '32', ',', '38', ',', 'and', '48', 'hpi', 'for', '20', 'μg/mL', '5-AzC', '.', 'Growth', 'rates', 'for', 'each', 'population', 'were', 'calculated', 'as', 'the', 'slope', 'of', 'the', 'log-titer', 'against', 'hpi', 'during', 'the', 'exponential', 'growth', 'phase', '.', 'For', 'competitions', 'between', 'populations', ',', '12', 'replicates', 'of', 'the', 'competition', 'assay', 'were', 'done', 'for', 'each', 'different', 'mutagen', 'dose', ',', 'whereas', 'for', 'competitions', 'between', 'clones', 'three', 'replicates', 'were', 'done', 'for', 'each', 'dose', 'and', 'each', 'of', 'the', 'four', 'clone', 'pairs.We', 'reduced', 'the', 'initial', 'inoculum', 'to', '~100', 'pfu', 'of', 'each', 'population', 'to', 'minimize', 'the', 'effect', 'of', 'rare', 'beneficial', 'mutations', 'in', 'the', 'outcome', 'of', 'the', 'competition', '.', 'Since', '1,000', 'clones', 'were', 'sampled', 'during', 'the', 'plaque', 'size', 'fitness', 'screening', ',', 'the', 'probability', 'that', 'beneficial', 'mutations', 'at', 'a', 'frequency', 'f', 'in', 'the', 'population', 'went', 'unnoticed', 'during', 'this', 'screening', 'is', 'given', 'by', 'the', 'binomial', 'distribution', 'function', ',', 'Bi', '(', '0', ',', '1,000', ',', 'f', ')', '.', 'For', 'each', 'competition', 'assay', ',', 'the', 'probability', 'that', 'these', 'beneficial', 'mutations', 'were', 'present', 'in', 'the', 'inoculum', 'is', '1', '−', 'Bi', '(', '0', ',', '100', ',', 'f', ')', '.', 'Therefore', ',', 'for', 'each', 'replicate', 'of', 'the', 'competition', 'assay', ',', 'the', 'joint', 'probability', 'that', 'beneficial', 'mutations', 'that', 'had', 'been', 'missed', 'in', 'the', 'plaque', 'size', 'screening', 'and', 'were', 'present', 'in', 'the', 'competition', 'assays', 'is', 'p', '=', 'Bi', '(', '0', ',', '1,000', ',', 'f', ')', '(', '1', '−', 'Bi', '(', '0', ',', '100', ',', 'f', ')', ')', '.', 'For', 'all', 'values', 'of', 'f', ',', 'p', '≤', '0.035', 'for', 'each', 'replica', 'of', 'the', 'competition', 'assay', ',', 'thus', 'making', 'it', 'very', 'unlikely', 'that', 'rare', 'beneficial', 'mutations', 'had', 'affected', 'the', 'results', 'of', 'the', 'competition', 'after', '12', 'replicates.The', 'expected', 'outcome', 'of', 'a', 'competition', 'between', 'population', 'A', 'and', 'B', ',', 'based', 'on', 'plaque', 'sizes', ',', 'was', 'obtained', 'as', 'follows', '.', 'First', ',', 'to', 'mimic', 'the', 'inoculum', 'size', 'of', 'the', 'real', 'competition', 'assays', ',', 'we', 'randomly', 'sampled', 'a', 'subset', 'of', '100', 'individuals', 'from', 'each', 'population', 'and', 'we', 'got', 'their', 'expected', 'progeny', 'per', 'hour', ',', 'which', 'is', 'equal', 'to', 'the', 'predicted', 'fitness', '.', 'We', 'then', 'let', 'the', 'simulated', 'growth', 'proceed', 'until', 'the', 'total', 'population', 'size', 'was', 'similar', 'to', 'that', 'observed', 'at', 'the', 'last', 'time', 'point', 'of', 'real', 'competitions', '.', 'The', 'expected', 'winner', 'of', 'the', 'competition', 'was', 'the', 'one', 'with', 'the', 'larger', 'progeny', 'number', 'at', 'the', 'final', 'time', 'point', '.', 'The', 'random', 'sampling', 'and', 'the', 'simulation', 'were', 'repeated', '1,000', 'times.Two', 'random', 'clones', 'from', 'populations', 'A', 'and', 'B', 'were', 'picked', 'from', 'a', '60', 'mm', 'plate', 'and', 'stored', 'at', '−80', '°C', 'as', 'ancestors', '.', 'Twenty-four', 'mutation', 'accumulation', 'lines', 'were', 'founded', 'from', 'each', 'ancestor', 'by', 'randomly', 'picking', '24', 'lysis', 'plaques', '.', 'Following', 'previous', 'plaque-to-plaque', 'experimental', 'designs', '[', '44', ']', ',', 'for', 'each', 'lineage', ',', 'viruses', 'were', 'plated', 'and', 'at', '24', 'hpi', ',', 'a', 'lysis', 'plaque', 'was', 'randomly', 'sampled', ',', 'resuspended', 'in', 'DMEM', 'medium', ',', 'and', 'directly', 'plated', 'onto', 'a', 'fresh', 'monolayer', '.', 'This', 'protocol', 'was', 'pursued', 'on', 'a', 'daily', 'basis', 'for12', 'passages', '.', 'The', 'number', 'of', 'generations', 'elapsed', 'during', 'each', 'plaque-to-plaque', 'passage', 'was', 'estimated', 'to', 'be', 'approximately', 'two', '.', 'To', 'obtain', 'enough', 'viruses', 'for', 'fitness', 'assays', ',', 'the', 'ancestors', 'and', 'the', 'final', 'derived', 'clones', 'were', 'given', 'a', 'single', 'passage', 'in', 'a', '96-well', 'plate', 'containing', '~104', 'BHK21', '.', 'Fitness', 'assays', 'were', 'performed', 'as', 'detailed', 'above', 'simultaneously', 'for', 'the', 'ancestors', 'and', 'the', 'derived', 'lines', 'in', 'three', 'experimental', 'blocks', '.', 'In', 'each', 'block', ',', 'the', '24', 'derived', 'clones', 'of', 'each', 'population', 'were', 'assayed', 'once', ',', 'whereas', 'the', 'ancestors', 'were', 'assayed', 'six', 'times.The', 'expected', 'change', 'in', 'log-fitness', 'after', 't', 'generations', '(', 't', '=', '24', ')', 'is', 'ΔlogW', '=', 'logWt', '−', 'logW', '0', '=', 'UdtE', '[', 'log', '(', '1', '−', 's', ')', ']', '.', 'The', 'expected', 'genetic', 'variance', 'for', 'log-fitness', 'among', 'lineages', 'is', 'σG', '2', '(', 'logWt', ')', '≈', 'UdtE', '[', '(', 'log', '(', '1', '−', 's', ')', ')', '2', ']', ',', 'and', 'the', 'total', 'variance', 'is', 'σT', '2', '(', 'logW', ')', '=', 'σE', '2', '(', 'logW', ')', '+', 'σG', '2', '(', 'logW', ')', 'where', 'sub-index', 'E', 'refers', 'to', 'environmental', 'variance', '.', 'Since', 'genetic', 'variance', 'is', 'null', 'for', 'the', 'ancestor', 'and', 'all', 'fitness', 'assays', 'were', 'performed', 'in', 'the', 'same', 'environmental', 'conditions', ',', 'σE', '2', '(', 'logWt', ')', '=', 'σE', '2', '(', 'logW', '0', ')', '=', 'σT', '2', '(', 'logW', '0', ')', ',', 'and', 'therefore', 'σG', '2', '(', 'logWt', ')', '=', 'σT', '2', '(', 'logWt', ')', '−', 'σT', '2', '(', 'logW', '0', ')', '=', 'ΔσT', '2', '(', 'logW', ')', '.', 'It', 'follows', 'that', 'and', 'that', 'where', 'θ', 'is', 'the', 'coefficient', 'of', 'variation', '(', 'standard', 'deviation', 'to', 'mean', 'ratio', ')', 'of', 'log', 'W', 'associated', 'to', 'single', 'deleterious', 'mutations', '.', '(', '1', '+', 'θ', '2', ')', 'E', '[', 'log', '(', '1', '−', 's', ')', ']', 'and', 'Ud/', '(', '1', '+', 'θ', '2', ')', 'were', 'directly', 'estimated', 'from', 'the', 'data', '.', 'For', 'an', 'exponential', 'distribution', '(', 'a', 'simple', 'and', 'relatively', 'accurate', 'model', 'for', 'describing', 'fitness', 'effects', 'associated', 'to', 'single', 'mutations', ')', ',', 'θ', '=', '1', '.', 'Nonetheless', ',', 'the', 'actual', 'distribution', 'of', 'mutational', 'effects', 'might', 'have', 'a', 'heavier', 'tail', 'and', 'thus', 'a', 'θ', '>', '1', '.', 'A', 'previous', 'fitness', 'dataset', 'of', '28', 'nonlethal', 'random', 'mutants', 'of', 'VSV', '[', '42', ']', 'gave', 'the', 'empirical', 'estimation', 'θ', '=', '1.598', '.', 'Using', 'this', 'figure', ',', 'we', 'obtained', 'estimates', 'of', 'Ud', 'and', 'E', '[', 'log', '(', '1', '−', 's', ')', ']', 'and', 'then', ',', 'of', 's.', 'For', 'A', ',', 'θ', '=', '1.598', 'should', 'be', 'an', 'accurate', 'estimation', 'of', 'the', 'true', 'θ-value', ',', 'because', 'it', 'was', 'obtained', 'for', 'the', 'above-mentioned', 'full-length', 'infectious', 'cDNA', 'clone', '.', 'It', 'is', 'possible', ',', 'however', ',', 'that', ',', 'due', 'to', 'its', 'higher', 'mutational', 'robustness', ',', 'B', 'showed', 'a', 'lower', 'θ-value', '.', 'This', 'potential', 'bias', 'could', 'account', 'for', 'the', 'slightly', 'higher', 'Ud', 'estimate', 'in', 'B', ',', 'but', 'it', 'could', 'not', 'account', 'for', 'the', 'nearly', 'one', 'order', 'of', 'magnitude', 'difference', 'in', 's-values', '(', 'in', 'the', 'extreme', 'case', 'θB', '=', '0', ',', 'the', 'true', 'Ud', 'B', 'would', 'be', '2.598', 'times', 'lower', 'than', 'our', 'estimate', 'and', 'the', 'true', 'sB', '2.598', 'times', 'higher', ')', '.To', 'address', 'whether', 'differences', 'between', 'Ud', 'and', 's', 'between', 'A', 'and', 'B', 'were', 'statistically', 'significant', ',', 'we', 'generated', '1,000', 'bootstrap', 'pseudo-replicates', 'from', 'both', 'the', '24', 'averaged', 'fitness', 'values', 'of', 'the', 'derived', 'clones', 'and', 'the', 'six', 'averaged', 'fitness', 'values', 'of', 'the', 'ancestors', '.', 'After', 'obtaining', 'the', 'corresponding', '1,000', 'pseudo-replicates', 'of', 'Ud', ',', 'we', 'counted', 'the', 'number', 'of', 'times', 'Ud', 'was', 'larger', 'for', 'A', 'versus', 'B', ',', 'and', 'the', 'same', 'for', 's.Parameters', 'Ud', 'and', 's', 'were', 'also', 'estimated', 'using', 'the', 'maximum', 'likelihood', 'approach', 'implemented', 'in', 'the', 'program', 'MLGENOMEU', '(', 'http', ':', '//homepages.ed.ac.uk/eang33/mlgenomeu/mlginstructions.html', ')', ',', 'in', 'which', 'a', 'Gamma', 'distribution', 'of', 'the', 'form', 'Ga', '(', 's', ')', '=', 'αβsβ', '−', '1', 'e', '−', 'αs/Γ', '(', 'β', ')', 'is', 'used', 'to', 'describe', 'the', 'distribution', 'of', 'mutational', 'effects', '(', 's', '=β/α', ')', '[', '28', ']', '.', 'Following', 'the', 'author', \"'s\", 'recommendations', ',', 'we', 'ran', 'the', 'program', 'to', 'estimate', 'Ud', 'and', 'α', 'at', 'fixed', 'β-values', 'varying', 'from', '99', 'to', '0.01', '.', 'The', 'log', 'likelihood', 'monotonically', 'increased', 'as', 'β', 'decreased', ',', 'yielding', 'increasingly', 'higher', 'α-values', '(', 's', '→', '∞', 'and', 'Ud', '→', '0', ')', '.Statistics', 'were', 'done', 'with', 'MS', 'Excel', '(', 'http', ':', '//www.microsoft.com', ')', 'and', 'the', 'SPSS', '12.0', 'package', '(', 'http', ':', '//www.spss.com', ')', '.', 'Resamplings', 'and', 'simulations', 'were', 'done', 'using', 'a', 'Perl', 'script', '.']\n"
     ]
    }
   ],
   "source": [
    "\n",
    "words = nltk.word_tokenize(all_text)\n",
    "print(words)"
   ]
  },
  {
   "cell_type": "code",
   "execution_count": 15,
   "metadata": {},
   "outputs": [],
   "source": [
    "def strip_html(text):\n",
    "    soup = BeautifulSoup(text, \"html.parser\")\n",
    "    return soup.get_text()\n",
    "\n",
    "def remove_between_square_brackets(text):\n",
    "    return re.sub('\\[[^]]*\\]', '', text)\n",
    "\n",
    "def denoise_text(text):\n",
    "    text = strip_html(text)\n",
    "    text = remove_between_square_brackets(text)\n",
    "    return text\n",
    "\n",
    "#sample = denoise_text(all_text)\n",
    "#print(sample)"
   ]
  },
  {
   "cell_type": "code",
   "execution_count": 16,
   "metadata": {},
   "outputs": [],
   "source": [
    "def remove_non_ascii(words):\n",
    "    \"\"\"Remove non-ASCII characters from list of tokenized words\"\"\"\n",
    "    new_words = []\n",
    "    for word in words:\n",
    "        new_word = unicodedata.normalize('NFKD', word).encode('ascii', 'ignore').decode('utf-8', 'ignore')\n",
    "        new_words.append(new_word)\n",
    "    return new_words\n",
    "\n",
    "def to_lowercase(words):\n",
    "    \"\"\"Convert all characters to lowercase from list of tokenized words\"\"\"\n",
    "    new_words = []\n",
    "    for word in words:\n",
    "        new_word = word.lower()\n",
    "        new_words.append(new_word)\n",
    "    return new_words\n",
    "\n",
    "def remove_punctuation(words):\n",
    "    \"\"\"Remove punctuation from list of tokenized words\"\"\"\n",
    "    new_words = []\n",
    "    for word in words:\n",
    "        new_word = re.sub(r'[^\\w\\s]', '', word)\n",
    "        if new_word != '':\n",
    "            new_words.append(new_word)\n",
    "    return new_words\n",
    "\n",
    "def replace_numbers(words):\n",
    "    \"\"\"Replace all interger occurrences in list of tokenized words with textual representation\"\"\"\n",
    "    p = inflect.engine()\n",
    "    new_words = []\n",
    "    for word in words:\n",
    "        if word.isdigit():\n",
    "            new_word = p.number_to_words(word)\n",
    "            new_words.append(new_word)\n",
    "        else:\n",
    "            new_words.append(word)\n",
    "    return new_words\n",
    "\n",
    "def remove_stopwords(words):\n",
    "    \"\"\"Remove stop words from list of tokenized words\"\"\"\n",
    "    new_words = []\n",
    "    for word in words:\n",
    "        if word not in stopwords.words('english'):\n",
    "            new_words.append(word)\n",
    "    return new_words\n",
    "\n",
    "def normalize(words):\n",
    "    \n",
    "    words = remove_non_ascii(words)\n",
    "    words = to_lowercase(words)\n",
    "    words = remove_punctuation(words)\n",
    "    words = replace_numbers(words)\n",
    "    words = remove_stopwords(words)\n",
    "    return words\n",
    "\n",
    "#words = normalize(words)\n",
    "#print(words)"
   ]
  },
  {
   "cell_type": "code",
   "execution_count": null,
   "metadata": {},
   "outputs": [],
   "source": []
  }
 ],
 "metadata": {
  "kernelspec": {
   "display_name": "Python 3",
   "language": "python",
   "name": "python3"
  },
  "language_info": {
   "codemirror_mode": {
    "name": "ipython",
    "version": 3
   },
   "file_extension": ".py",
   "mimetype": "text/x-python",
   "name": "python",
   "nbconvert_exporter": "python",
   "pygments_lexer": "ipython3",
   "version": "3.6.7"
  }
 },
 "nbformat": 4,
 "nbformat_minor": 2
}
